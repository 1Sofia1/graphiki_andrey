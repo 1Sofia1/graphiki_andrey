{
 "cells": [
  {
   "cell_type": "markdown",
   "id": "ace3034f-b2a2-495d-a882-b9959a8492d3",
   "metadata": {},
   "source": [
    "### 1 - 'absolute_aim_orientation.post_filter_bearing'и 'absolute_aim_orientation.bearing'\n",
    "### 2 - 'wrap_360(math.deg(current_orient:get_euler_yaw()))'и 'absolute_aim_orientation.bearing'\n",
    "### 3 - 'wrap_360(math.deg(current_orient:get_euler_yaw()))' и 'absolute_aim_orientation.post_filter_bearing'"
   ]
  },
  {
   "cell_type": "code",
   "execution_count": 39,
   "id": "603c4bb3-c1b5-40a4-8cb4-8b55d5087d57",
   "metadata": {},
   "outputs": [
    {
     "name": "stdout",
     "output_type": "stream",
     "text": [
      "[0, 1715, 4168, 7329, 13437, 14051, 14830, 15863, 24615]\n",
      "А всего заходов:  8\n",
      "Какой из заходов на цель хотите посмотреть?\n"
     ]
    },
    {
     "name": "stdin",
     "output_type": "stream",
     "text": [
      " 1\n"
     ]
    },
    {
     "name": "stdout",
     "output_type": "stream",
     "text": [
      "Введите критерий: 1 - post_filter/bearing, 2 - yaw/bearing,3 - yaw/post_filter\n"
     ]
    },
    {
     "name": "stdin",
     "output_type": "stream",
     "text": [
      " 3\n"
     ]
    },
    {
     "name": "stderr",
     "output_type": "stream",
     "text": [
      "C:\\Users\\sofia\\AppData\\Local\\Temp\\ipykernel_6252\\2997857946.py:66: SettingWithCopyWarning: \n",
      "A value is trying to be set on a copy of a slice from a DataFrame.\n",
      "Try using .loc[row_indexer,col_indexer] = value instead\n",
      "\n",
      "See the caveats in the documentation: https://pandas.pydata.org/pandas-docs/stable/user_guide/indexing.html#returning-a-view-versus-a-copy\n",
      "  df1['minus_' + a] = df1[a]-df1[b]\n",
      "C:\\Users\\sofia\\AppData\\Local\\Temp\\ipykernel_6252\\2997857946.py:67: SettingWithCopyWarning: \n",
      "A value is trying to be set on a copy of a slice from a DataFrame.\n",
      "Try using .loc[row_indexer,col_indexer] = value instead\n",
      "\n",
      "See the caveats in the documentation: https://pandas.pydata.org/pandas-docs/stable/user_guide/indexing.html#returning-a-view-versus-a-copy\n",
      "  df1['r_1'] = np.radians(df1['minus_' + a])\n",
      "C:\\Users\\sofia\\AppData\\Local\\Temp\\ipykernel_6252\\2997857946.py:72: SettingWithCopyWarning: \n",
      "A value is trying to be set on a copy of a slice from a DataFrame.\n",
      "Try using .loc[row_indexer,col_indexer] = value instead\n",
      "\n",
      "See the caveats in the documentation: https://pandas.pydata.org/pandas-docs/stable/user_guide/indexing.html#returning-a-view-versus-a-copy\n",
      "  df1['r_2'] = np.radians(df1[b]*0)\n",
      "C:\\Users\\sofia\\AppData\\Local\\Temp\\ipykernel_6252\\2997857946.py:83: SettingWithCopyWarning: \n",
      "A value is trying to be set on a copy of a slice from a DataFrame.\n",
      "Try using .loc[row_indexer,col_indexer] = value instead\n",
      "\n",
      "See the caveats in the documentation: https://pandas.pydata.org/pandas-docs/stable/user_guide/indexing.html#returning-a-view-versus-a-copy\n",
      "  df1['difference'] = np.degrees(angle_1['angle_1'])\n"
     ]
    }
   ],
   "source": [
    "import pandas as pd\n",
    "import matplotlib.pyplot as plt\n",
    "import numpy as np\n",
    "%matplotlib qt5\n",
    "df = pd.read_csv('SCRLOG_00024.csv', sep =';')\n",
    "df.columns = df.columns.str.strip()\n",
    "\n",
    "df = df.drop_duplicates().reset_index(drop=True)\n",
    "df=df.reset_index(drop=True)\n",
    "df = df.iloc[:-1]\n",
    "\n",
    "df = df.apply(pd.to_numeric, errors='coerce')#учла наличие пустых значений\n",
    "df['time_stamp(millis)']= df['time_stamp(millis)']/1000\n",
    "empty_numbers= df[df['wind_correct.heading'].isnull()].index.tolist()\n",
    "empty_rows = df.loc[empty_numbers]\n",
    "empty_numbers.append(len(df))\n",
    "print(empty_numbers)\n",
    "print(\"А всего заходов: \",len(empty_numbers)-1)\n",
    "###просто с прошлых осталось\n",
    "df['minus_wrap_360(math.deg(current_orient:get_euler_yaw()))'] = df['wrap_360(math.deg(current_orient:get_euler_yaw()))'] - df['calc_target.heading']\n",
    "df['minus_absolute_aim_orientation.bearing'] = df['absolute_aim_orientation.bearing'] - df['calc_target.heading']\n",
    "###\n",
    "\n",
    "#####мне спокойно, когда все задано изначально. пусть и костыльно)\n",
    "df['x']= df['calc_target.heading']*0\n",
    "x_plane = pd.DataFrame(columns=['plane_part'])\n",
    "y_plane = pd.DataFrame(columns=['plane_part'])\n",
    "x_point = pd.DataFrame(columns=['point_part'])\n",
    "y_point = pd.DataFrame(columns=['point_part'])\n",
    "sinus_part = pd.DataFrame(columns=['sinus_part'])\n",
    "cosinus_part = pd.DataFrame(columns=['cosinus_part'])\n",
    "angle = pd.DataFrame(columns=['angle'])\n",
    "angle_1 = pd.DataFrame(columns=['angle_1'])\n",
    "\n",
    "x_plane_r = pd.DataFrame(columns=['plane_part'])\n",
    "y_plane_r = pd.DataFrame(columns=['plane_part'])\n",
    "x_point_r = pd.DataFrame(columns=['point_part'])\n",
    "y_point_r = pd.DataFrame(columns=['point_part'])\n",
    "sinus_part_r = pd.DataFrame(columns=['sinus_part'])\n",
    "cosinus_part_r = pd.DataFrame(columns=['cosinus_part'])\n",
    "angle_r = pd.DataFrame(columns=['angle'])\n",
    "#######\n",
    "\n",
    "\n",
    "### COPY_1 - поменяла логику. теперь вопрос, какую из разниц хотим посмотреть\n",
    "print(\"Какой из заходов на цель хотите посмотреть?\")\n",
    "num = int(input())\n",
    "print (\"Введите критерий: 1 - post_filter/bearing, 2 - yaw/bearing,3 - yaw/post_filter\")\n",
    "kriteriy = input()\n",
    "df1 = df.iloc[empty_numbers[num-1]+1:empty_numbers[num]]\n",
    "\n",
    "\n",
    "if (kriteriy == '1'):\n",
    "    a = 'absolute_aim_orientation.post_filter_bearing'\n",
    "    b = 'absolute_aim_orientation.bearing'\n",
    "elif (kriteriy == '2'):\n",
    "    a = 'wrap_360(math.deg(current_orient:get_euler_yaw()))'\n",
    "    b = 'absolute_aim_orientation.bearing'\n",
    "elif (kriteriy == '3'):\n",
    "    a = 'wrap_360(math.deg(current_orient:get_euler_yaw()))'\n",
    "    b = 'absolute_aim_orientation.post_filter_bearing'\n",
    "else:\n",
    "    print(\"Чет пошло не так\")\n",
    "    \n",
    "###Difference\n",
    "df1['minus_' + a] = df1[a]-df1[b]\n",
    "df1['r_1'] = np.radians(df1['minus_' + a])\n",
    "\n",
    "x_plane['plane_part'] = np.sin(df1['r_1'])\n",
    "y_plane['plane_part'] = np.cos(df1['r_1'])\n",
    "\n",
    "df1['r_2'] = np.radians(df1[b]*0)\n",
    "x_point['point_part'] = np.sin(df1['r_2'])\n",
    "y_point['point_part'] = np.cos(df1['r_2'])\n",
    "\n",
    "\n",
    "sinus_part['sinus_part'] = x_plane['plane_part']*x_point['point_part'] + y_plane['plane_part']*y_point['point_part']\n",
    "cosinus_part['cosinus_part'] = x_plane['plane_part']*y_point['point_part'] - x_point['point_part']*y_plane['plane_part']\n",
    "\n",
    "angle['angle'] = np.arctan2(cosinus_part ['cosinus_part'],sinus_part['sinus_part'])\n",
    "angle_1['angle_1'] = (angle['angle']**2).expanding().mean()\n",
    "angle_1['angle_1'] = np.sqrt(angle_1['angle_1'])\n",
    "df1['difference'] = np.degrees(angle_1['angle_1'])\n",
    "##########\n",
    "\n",
    "###Сама визуализация + отображаемые параметры\n",
    "df1.plot(x=\"time_stamp(millis)\",y=['minus_'+ a,'difference'],linewidth = 3,fontsize=22)\n",
    "plt.plot(df1[\"time_stamp(millis)\"],df1['x'], color = \"black\", linestyle ='-',linewidth = 3, alpha = 1, label = b)\n",
    "plt.legend(bbox_to_anchor=(0.8, 1.1), loc='upper left',fontsize=22)\n",
    "\n",
    "plt.figtext(0.03, 0.02, df1['difference'].iloc[-1], fontsize=22)\n",
    "#plt.show()\n",
    "\n",
    "\n",
    "df1.plot(x=\"time_stamp(millis)\",y=[a,b],linewidth = 3,fontsize=22)\n",
    "plt.legend(bbox_to_anchor=(0.8, 1.1), loc='upper left',fontsize=22)\n",
    "plt.figtext(0.03, 0.02, df1['difference'].iloc[-1], fontsize=22)\n",
    "plt.show()"
   ]
  },
  {
   "cell_type": "code",
   "execution_count": null,
   "id": "45775412-3665-4b3d-b3be-4529323a569a",
   "metadata": {},
   "outputs": [],
   "source": []
  }
 ],
 "metadata": {
  "kernelspec": {
   "display_name": "Python 3 (ipykernel)",
   "language": "python",
   "name": "python3"
  },
  "language_info": {
   "codemirror_mode": {
    "name": "ipython",
    "version": 3
   },
   "file_extension": ".py",
   "mimetype": "text/x-python",
   "name": "python",
   "nbconvert_exporter": "python",
   "pygments_lexer": "ipython3",
   "version": "3.12.7"
  }
 },
 "nbformat": 4,
 "nbformat_minor": 5
}
