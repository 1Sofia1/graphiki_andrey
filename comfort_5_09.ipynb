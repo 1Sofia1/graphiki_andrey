{
 "cells": [
  {
   "cell_type": "markdown",
   "id": "5f9d61b0-ca30-4e5d-bfbb-64245f6347c1",
   "metadata": {},
   "source": [
    "# Запусти, чтобы посмотреть конкретный заход"
   ]
  },
  {
   "cell_type": "code",
   "execution_count": 155,
   "id": "2b51bda8-1f2e-4b59-bf17-50a4acd9925b",
   "metadata": {},
   "outputs": [
    {
     "name": "stdout",
     "output_type": "stream",
     "text": [
      "[1, 4604, 8277, 8733, 13251, 17292, 22452, 22876, 26378, 27293, 28013, 33438, 36890, 38891, 42372, 45769]\n",
      "Какой из заходов на цель хотите посмотреть?\n"
     ]
    },
    {
     "name": "stdin",
     "output_type": "stream",
     "text": [
      " 1\n"
     ]
    },
    {
     "name": "stdout",
     "output_type": "stream",
     "text": [
      "Введите критерий: 0 - всe,1 - тангаж, 2 - курс,3 - билиберда?, 4 - отклонение\n"
     ]
    },
    {
     "name": "stdin",
     "output_type": "stream",
     "text": [
      " 4\n"
     ]
    }
   ],
   "source": [
    "#### import pandas as pd\n",
    "import matplotlib.pyplot as plt\n",
    "import numpy as np\n",
    "%matplotlib qt5\n",
    "df = pd.read_csv('SCRLOG_0002.csv', sep =';')\n",
    "df.columns = df.columns.str.strip()\n",
    "\n",
    "#count = df['wind_correct.heading'].isnull().sum()\n",
    "#df=df.drop([0, count-1]).reset_index(drop=True)\n",
    "#df = df[:-count].reset_index(drop=True)\n",
    "\n",
    "df = df.drop_duplicates().reset_index(drop=True)\n",
    "df=df.reset_index(drop=True)\n",
    "df\n",
    "empty_numbers= df[df['wind_correct.heading'].isnull()].index.tolist()\n",
    "#empty_rows = df[df.isnull().sum(axis=1)>0].index.tolist()\n",
    "empty_rows = df.loc[empty_numbers]\n",
    "#empty_rows_df = pd.DataFrame(empty_rows)\n",
    "#new_c = ['purpose','p','i','d']\n",
    "#empty_rows_df.columns = new_c\n",
    "\n",
    "df = df.apply(pd.to_numeric, errors='coerce')#учла наличие пустых значений\n",
    "empty_numbers.append(len(df))\n",
    "print(empty_numbers)\n",
    "#print(empty_rows)\n",
    "df = df[['time_stamp(millis)','math.deg(current_orient:get_euler_pitch())','calc_target.pitch','wind_correct.pitch','absolute_aim_orientation.pitch','wrap_360(math.deg(current_orient:get_euler_yaw()))','calc_target.heading','wind_correct.heading','absolute_aim_orientation.bearing','ahrs:airspeed_estimate()', 'ctrl_roll_speed', 'ctrl_yawspd', 'ctrl_roll_speed']]\n",
    "\n",
    "#####\n",
    "#empty_rows = df[df.isnull().any(axis=1)].index.tolist()\n",
    "#plt.figtext(0.02,0.02, empty_numbers, fontsize=10)\n",
    "#plt.show()\n",
    "#####\n",
    "\n",
    "\n",
    "new = pd.DataFrame(columns=['wrap_360(math.deg(current_orient:get_euler_yaw()))','minus_absolute_aim_orientation.bearing'])\n",
    "new['minus_wrap_360(math.deg(current_orient:get_euler_yaw()))'] = df['wrap_360(math.deg(current_orient:get_euler_yaw()))'] - df['calc_target.heading']\n",
    "df['minus_wrap_360(math.deg(current_orient:get_euler_yaw()))'] = new['minus_wrap_360(math.deg(current_orient:get_euler_yaw()))']\n",
    "new['minus_absolute_aim_orientation.bearing'] = df['absolute_aim_orientation.bearing'] - df['calc_target.heading']\n",
    "df['minus_absolute_aim_orientation.bearing'] = new['minus_absolute_aim_orientation.bearing']\n",
    "df['x']= df['calc_target.heading']*0\n",
    "df['cam_width_left_6']= df['calc_target.heading']*0+6\n",
    "df['cam_width_right_6']= df['calc_target.heading']*0-6\n",
    "df['cam_width_left_14']= df['calc_target.heading']*0+14\n",
    "df['cam_width_right_14']= df['calc_target.heading']*0-14\n",
    "\n",
    "########### new difference\n",
    "x_plane = pd.DataFrame(columns=['plane_part'])\n",
    "y_plane = pd.DataFrame(columns=['plane_part'])\n",
    "x_point = pd.DataFrame(columns=['point_part'])\n",
    "y_point = pd.DataFrame(columns=['point_part'])\n",
    "sinus_part = pd.DataFrame(columns=['sinus_part'])\n",
    "cosinus_part = pd.DataFrame(columns=['cosinus_part'])\n",
    "angle = pd.DataFrame(columns=['angle'])\n",
    "angle_1 = pd.DataFrame(columns=['angle_1'])\n",
    "\n",
    "df['r_minus_wrap_360(math.deg(current_orient:get_euler_yaw()))'] = np.radians(df['minus_wrap_360(math.deg(current_orient:get_euler_yaw()))'])\n",
    "\n",
    "x_plane['plane_part'] = np.sin(df['r_minus_wrap_360(math.deg(current_orient:get_euler_yaw()))'])\n",
    "y_plane['plane_part'] = np.cos(df['r_minus_wrap_360(math.deg(current_orient:get_euler_yaw()))'])\n",
    "\n",
    "df['x'] = np.radians(df['x'])\n",
    "x_point['point_part'] = np.sin(df['x'])\n",
    "y_point['point_part'] = np.cos(df['x'])\n",
    "\n",
    "\n",
    "sinus_part['sinus_part'] = x_plane['plane_part']*x_point['point_part'] + y_plane['plane_part']*y_point['point_part']\n",
    "cosinus_part['cosinus_part'] = x_plane['plane_part']*y_point['point_part'] - x_point['point_part']*y_plane['plane_part']\n",
    "\n",
    "angle['angle'] = np.arctan2(cosinus_part ['cosinus_part'],sinus_part['sinus_part'])\n",
    "#angle['difference'] = angle['angle']**2\n",
    "angle_1['angle_1'] = (angle['angle']**2).expanding().mean()\n",
    "angle_1['angle_1'] = np.sqrt(angle_1['angle_1'])\n",
    "df['difference'] = np.degrees(angle_1['angle_1'])\n",
    "\n",
    "'''########### it was a new difference\n",
    "rename = { 'math.deg(current_orient:get_euler_pitch())': 'purpose',\n",
    "           'wrap_360(math.deg(current_orient:get_euler_yaw()))': 'p',\n",
    "          'calc_target.pitch': 'i',\n",
    "          'calc_target.heading': 'd'   \n",
    "    }\n",
    "print(empty_rows.loc['math.deg(current_orient:get_euler_pitch())','wrap_360(math.deg(current_orient:get_euler_yaw()))','calc_target.pitch','calc_target.heading'].rename(columns = rename))\n",
    "'''\n",
    "print(\"Какой из заходов на цель хотите посмотреть?\")\n",
    "num = int(input())\n",
    "print (\"Введите критерий: 0 - всe,1 - тангаж, 2 - курс,3 - билиберда?, 4 - отклонение\")\n",
    "kriteriy = input()\n",
    "df1 = df.iloc[empty_numbers[num-1]+1:empty_numbers[num]]\n",
    "##########\n",
    "#plt.figtext(0.02, 0.02, empty_rows.iloc[:1])\n",
    "#fig.subplotsadjust(hspace=0.3)\n",
    "if (kriteriy == \"всe\" or kriteriy ==\"тангаж\") or (kriteriy == \"0\" or kriteriy ==\"1\"):\n",
    "    df1.plot(x=\"time_stamp(millis)\",y=[\"calc_target.pitch\",\"wind_correct.pitch\",\"absolute_aim_orientation.pitch\"])\n",
    "    plt.plot(df1[\"time_stamp(millis)\"],df1[\"math.deg(current_orient:get_euler_pitch())\"], color = \"green\", linestyle ='-',linewidth = 2, alpha = 0.8, label = 'math.deg(current_orient:get_euler_pitch())')\n",
    "    #plt.plot(x2,y, color = \"blue\", linestyle ='-',linewidth = 1, alpha = 1, label = 'x2')\n",
    "    plt.legend(bbox_to_anchor=(1.05, 1), loc='upper left',fontsize=22)\n",
    "    \n",
    "#!!!!!!!!!!!!!!!!!!!\n",
    "if ((kriteriy == \"всe\" or kriteriy == \"курс\")) or (kriteriy == \"0\" or kriteriy ==\"2\"):\n",
    "    #df1.plot(x=\"time_stamp(millis)\",y=['minus_absolute_aim_orientation.bearing','wrap_360(math.deg(current_orient:get_euler_yaw()))','x','cam_width_right_6','cam_width_left_6','cam_width_right_14','cam_width_left_14'])\n",
    "    df1.plot(x=\"time_stamp(millis)\",y=['minus_absolute_aim_orientation.bearing','minus_wrap_360(math.deg(current_orient:get_euler_yaw()))'],linewidth = 3)\n",
    "    plt.plot(df1[\"time_stamp(millis)\"],df1['cam_width_right_14'], color = \"red\", linestyle ='--',linewidth = 4, alpha = 1, label = 'cam_width_right_14')\n",
    "    plt.plot(df1[\"time_stamp(millis)\"],df1['cam_width_left_14'], color = \"red\", linestyle ='--',linewidth = 4, alpha = 1, label = 'cam_width_left_14')\n",
    "    plt.plot(df1[\"time_stamp(millis)\"],df1['cam_width_right_6'], color = \"black\", linestyle ='--',linewidth = 3, alpha = 1, label = 'cam_width_right_6')\n",
    "    plt.plot(df1[\"time_stamp(millis)\"],df1['cam_width_left_6'], color = \"black\", linestyle ='--',linewidth = 3, alpha = 1, label = 'cam_width_left_6')\n",
    "    plt.plot(df1[\"time_stamp(millis)\"],df1['x'], color = \"black\", linestyle ='-',linewidth = 3, alpha = 1, label = 'x')\n",
    "    plt.legend(bbox_to_anchor=(1.05, 1), loc='upper left',fontsize=22)\n",
    "    \n",
    "if (kriteriy == \"всe\" or kriteriy == \"билиберда\")or (kriteriy == \"0\" or kriteriy ==\"3\"):\n",
    "    df1.plot(x=\"time_stamp(millis)\",y=['ahrs:airspeed_estimate()', 'ctrl_roll_speed', 'ctrl_yawspd', 'ctrl_Roll'])\n",
    "    plt.legend(bbox_to_anchor=(1.05, 1), loc='upper left',fontsize=22)\n",
    "\n",
    "if ((kriteriy == \"всe\" or kriteriy == \"отклонение\")) or (kriteriy == \"0\" or kriteriy ==\"4\"):\n",
    "    df1.plot(x='time_stamp(millis)',y='difference', color = \"blue\", linestyle ='-',linewidth = 3, alpha = 1, label = 'difference')\n",
    "    plt.plot(df1[\"time_stamp(millis)\"],df1['x'], color = \"black\", linestyle ='-',linewidth = 3, alpha = 1, label = 'x')\n",
    "    plt.legend(bbox_to_anchor=(1.05, 1), loc='upper left',fontsize=22)\n",
    "'''print(empty_rows[1:5].rename(columns={\n",
    "    'math.deg(current_orient:get_euler_pitch())': 'purpose',\n",
    "    'wrap_360(math.deg(current_orient:get_euler_yaw()))': 'p',\n",
    "    'calc_target.pitch': 'i',\n",
    "    'calc_target.heading':'d'\n",
    " }))\n",
    "print(empty_rows.iloc[4:5, 1:5])\n",
    "#spisok = []\n",
    "#spisok = empty_rows.iloc[num-1:num,1:5]\n",
    "#print(spisok)\n",
    "#########################################################################\n",
    "print(empty_rows.iloc[1:5].rename(columns={\n",
    "    'math.deg(current_orient:get_euler_pitch())': 'purpose',\n",
    "    'wrap_360(math.deg(current_orient:get_euler_yaw()))': 'p',\n",
    "    'calc_target.pitch': 'i',\n",
    "    'calc_target.heading': 'd'\n",
    "})[['purpose', 'p', 'i', 'd']]) \n",
    "plt.figtext(0.02, 0.9, empty_rows.iloc[num-1:num,1:5].to_string(),fontsize=22)'''\n",
    "selected_data = empty_rows.iloc[num-1:num, 1:5].rename(columns={\n",
    "    'math.deg(current_orient:get_euler_pitch())': 'purpose',\n",
    "    'wrap_360(math.deg(current_orient:get_euler_yaw()))': 'p',\n",
    "    'calc_target.pitch': 'i', \n",
    "    'calc_target.heading': 'd'\n",
    "})\n",
    "data_string = selected_data.to_string()\n",
    "\n",
    "# Выводим в figtext\n",
    "plt.figtext(0.02, 0.9, data_string, fontsize=22)\n",
    "plt.figtext(0.03, 0.02, df1['difference'].iloc[-1], fontsize=22)\n",
    "plt.show()\n",
    "#df.loc[empty_numbers[num],'difference']\n",
    "#5, p i d - 3,4,5 "
   ]
  },
  {
   "cell_type": "code",
   "execution_count": 148,
   "id": "a485aed3-3eaa-4278-9495-e8033527be81",
   "metadata": {},
   "outputs": [
    {
     "name": "stdout",
     "output_type": "stream",
     "text": [
      "<class 'pandas.core.frame.DataFrame'>\n",
      "RangeIndex: 45769 entries, 0 to 45768\n",
      "Data columns (total 22 columns):\n",
      " #   Column                                                      Non-Null Count  Dtype  \n",
      "---  ------                                                      --------------  -----  \n",
      " 0   time_stamp(millis)                                          45768 non-null  float64\n",
      " 1   math.deg(current_orient:get_euler_pitch())                  45768 non-null  float64\n",
      " 2   calc_target.pitch                                           45768 non-null  float64\n",
      " 3   wind_correct.pitch                                          45753 non-null  float64\n",
      " 4   absolute_aim_orientation.pitch                              45753 non-null  float64\n",
      " 5   wrap_360(math.deg(current_orient:get_euler_yaw()))          45768 non-null  float64\n",
      " 6   calc_target.heading                                         45768 non-null  float64\n",
      " 7   wind_correct.heading                                        45753 non-null  float64\n",
      " 8   absolute_aim_orientation.bearing                            45753 non-null  float64\n",
      " 9   ahrs:airspeed_estimate()                                    45753 non-null  float64\n",
      " 10  ctrl_roll_speed                                             45753 non-null  float64\n",
      " 11  ctrl_yawspd                                                 45753 non-null  float64\n",
      " 12  ctrl_roll_speed                                             45753 non-null  float64\n",
      " 13  minus_wrap_360(math.deg(current_orient:get_euler_yaw()))    45768 non-null  float64\n",
      " 14  minus_absolute_aim_orientation.bearing                      45753 non-null  float64\n",
      " 15  x                                                           45768 non-null  float64\n",
      " 16  cam_width_left_6                                            45768 non-null  float64\n",
      " 17  cam_width_right_6                                           45768 non-null  float64\n",
      " 18  cam_width_left_14                                           45768 non-null  float64\n",
      " 19  cam_width_right_14                                          45768 non-null  float64\n",
      " 20  r_minus_wrap_360(math.deg(current_orient:get_euler_yaw()))  45768 non-null  float64\n",
      " 21  difference                                                  45768 non-null  float64\n",
      "dtypes: float64(22)\n",
      "memory usage: 7.7 MB\n"
     ]
    }
   ],
   "source": [
    "df.info()"
   ]
  },
  {
   "cell_type": "markdown",
   "id": "4c82fb1d-85d0-4363-a326-23ac166619b0",
   "metadata": {},
   "source": [
    "# Запусти чтобы посмотреть все заходы в одном окне по времени"
   ]
  },
  {
   "cell_type": "code",
   "execution_count": null,
   "id": "9412cb71-7593-4a43-873c-6ce46f13788d",
   "metadata": {},
   "outputs": [],
   "source": [
    "import pandas as pd\n",
    "import matplotlib.pyplot as plt\n",
    "%matplotlib qt5\n",
    "df = pd.read_csv('SCRLOG_02.csv', sep =';')\n",
    "df.columns = df.columns.str.strip()\n",
    "\n",
    "#count = df['wind_correct.heading'].isnull().sum()\n",
    "#df=df.drop([0, count-1]).reset_index(drop=True)\n",
    "#df = df[:-count].reset_index(drop=True)\n",
    "\n",
    "df = df.drop_duplicates().reset_index(drop=True)\n",
    "df=df[1:].reset_index(drop=True)\n",
    "\n",
    "empty_numbers=df[df['wind_correct.heading'].isnull()].index.tolist()\n",
    "df=df.dropna(axis=0, how='any')#не запустила в первом случае\n",
    "df = df.apply(pd.to_numeric, errors='coerce')#учла наличие пустых значений\n",
    "empty_numbers.append(len(df))\n",
    "\n",
    "df = df[['time_stamp(millis)','math.deg(current_orient:get_euler_pitch())','calc_target.pitch','wind_correct.pitch','absolute_aim_orientation.pitch','wrap_360(math.deg(current_orient:get_euler_yaw()))','calc_target.heading','wind_correct.heading','absolute_aim_orientation.bearing','ahrs:airspeed_estimate()', 'ctrl_roll_speed', 'ctrl_yawspd', 'ctrl_Roll']]\n",
    "\n",
    "\n",
    "df.plot(x=\"time_stamp(millis)\",y=[\"math.deg(current_orient:get_euler_pitch())\",\"calc_target.pitch\",\"wind_correct.pitch\",\"absolute_aim_orientation.pitch\"])\n",
    "plt.legend(bbox_to_anchor=(1.05, 1), loc='upper left')\n",
    "df.plot(x=\"time_stamp(millis)\",y=['wrap_360(math.deg(current_orient:get_euler_yaw()))','calc_target.heading','wind_correct.heading','absolute_aim_orientation.bearing'])\n",
    "plt.legend(bbox_to_anchor=(1.05, 1), loc='upper left')\n",
    "df1.plot(x=\"time_stamp(millis)\",y=['ahrs:airspeed_estimate()', 'ctrl_roll_speed', 'ctrl_yawspd', 'ctrl_Roll'])\n",
    "plt.legend(bbox_to_anchor=(1.05, 1), loc='upper left')\n",
    "plt.show()"
   ]
  },
  {
   "cell_type": "markdown",
   "id": "23a6ce3a-8c00-4fc6-ab87-ebc8c9e9a4e8",
   "metadata": {},
   "source": [
    "'ctrl_yawspd' в радианы\n",
    "умножить ahrs:airspeed_estimate()\n",
    "/9.806565\n",
    "от результата арктангенс\n",
    "результат в градусы\n",
    "график - таргкт ролл\n",
    "\n",
    "наложить ctrl_Roll"
   ]
  },
  {
   "cell_type": "code",
   "execution_count": 13,
   "id": "820d4ede-58d3-4f62-8a4a-fd2c7ecbdb6d",
   "metadata": {},
   "outputs": [
    {
     "ename": "NameError",
     "evalue": "name 'np' is not defined",
     "output_type": "error",
     "traceback": [
      "\u001b[1;31m---------------------------------------------------------------------------\u001b[0m",
      "\u001b[1;31mNameError\u001b[0m                                 Traceback (most recent call last)",
      "Cell \u001b[1;32mIn[13], line 1\u001b[0m\n\u001b[1;32m----> 1\u001b[0m new_roll \u001b[38;5;241m=\u001b[39m np\u001b[38;5;241m.\u001b[39marctan(np\u001b[38;5;241m.\u001b[39mradians(df[\u001b[38;5;124m'\u001b[39m\u001b[38;5;124mctrl_yawspd\u001b[39m\u001b[38;5;124m'\u001b[39m])\u001b[38;5;241m*\u001b[39mdf[\u001b[38;5;124m'\u001b[39m\u001b[38;5;124mahrs:airspeed_estimate()\u001b[39m\u001b[38;5;124m'\u001b[39m])\n\u001b[0;32m      2\u001b[0m new_roll\n",
      "\u001b[1;31mNameError\u001b[0m: name 'np' is not defined"
     ]
    }
   ],
   "source": [
    "new_roll = np.arctan(np.radians(df['ctrl_yawspd'])*df['ahrs:airspeed_estimate()'])\n",
    "new_roll"
   ]
  },
  {
   "cell_type": "markdown",
   "id": "4b326329-e50b-4afd-ba1c-7c0079ab5c7c",
   "metadata": {},
   "source": []
  },
  {
   "cell_type": "code",
   "execution_count": null,
   "id": "74719fe0-4d56-4b90-8d91-b4ab45793ea9",
   "metadata": {},
   "outputs": [],
   "source": []
  },
  {
   "cell_type": "code",
   "execution_count": null,
   "id": "a0d1b4d0-d5aa-4b26-9b5e-300a429ffb75",
   "metadata": {},
   "outputs": [],
   "source": []
  },
  {
   "cell_type": "code",
   "execution_count": null,
   "id": "850309de-41a3-4b5e-a138-fddd52b6f6cd",
   "metadata": {},
   "outputs": [],
   "source": []
  },
  {
   "cell_type": "code",
   "execution_count": 3,
   "id": "6e6cf413-925d-4d00-9d64-5f5453a30cf4",
   "metadata": {},
   "outputs": [
    {
     "name": "stdout",
     "output_type": "stream",
     "text": [
      "['time_stamp(millis)', 'math.deg(current_orient:get_euler_pitch())', 'calc_target.pitch', 'wind_correct.pitch', 'absolute_aim_orientation.pitch', 'wrap_360(math.deg(current_orient:get_euler_yaw()))', 'calc_target.heading', 'wind_correct.heading', 'absolute_aim_orientation.bearing']\n"
     ]
    }
   ],
   "source": [
    "print(df.columns.tolist())"
   ]
  }
 ],
 "metadata": {
  "kernelspec": {
   "display_name": "Python 3 (ipykernel)",
   "language": "python",
   "name": "python3"
  },
  "language_info": {
   "codemirror_mode": {
    "name": "ipython",
    "version": 3
   },
   "file_extension": ".py",
   "mimetype": "text/x-python",
   "name": "python",
   "nbconvert_exporter": "python",
   "pygments_lexer": "ipython3",
   "version": "3.12.7"
  }
 },
 "nbformat": 4,
 "nbformat_minor": 5
}
