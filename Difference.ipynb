{
 "cells": [
  {
   "cell_type": "code",
   "execution_count": 83,
   "id": "e507ec6a-26e5-4f51-b890-1b70c51d1f6c",
   "metadata": {},
   "outputs": [
    {
     "data": {
      "text/plain": [
       "<bound method DataFrame.info of       wrap_360(math.deg(current_orient:get_euler_yaw()))  calc_target.heading\n",
       "0                                              253.8388              247.9940\n",
       "1                                              253.9931              247.9940\n",
       "2                                              254.1311              247.9940\n",
       "3                                              254.2680              247.8018\n",
       "4                                              254.3796              247.8018\n",
       "...                                                 ...                   ...\n",
       "3545                                           344.5722              338.8967\n",
       "3546                                           344.6370              338.8967\n",
       "3547                                           344.6926              339.9531\n",
       "3548                                           344.7438              339.9850\n",
       "3549                                           344.7961              340.0076\n",
       "\n",
       "[3546 rows x 2 columns]>"
      ]
     },
     "execution_count": 83,
     "metadata": {},
     "output_type": "execute_result"
    }
   ],
   "source": [
    "import pandas as pd\n",
    "import matplotlib.pyplot as plt\n",
    "%matplotlib qt5\n",
    "df = pd.read_csv('SCRLOG_02.csv', sep =';')\n",
    "df.columns = df.columns.str.strip()\n",
    "\n",
    "#count = df['wind_correct.heading'].isnull().sum()\n",
    "#df=df.drop([0, count-1]).reset_index(drop=True)\n",
    "#df = df[:-count].reset_index(drop=True)\n",
    "\n",
    "df = df.drop_duplicates().reset_index(drop=True)\n",
    "df=df[1:].reset_index(drop=True)\n",
    "\n",
    "empty_numbers=df[df['wind_correct.heading'].isnull()].index.tolist()\n",
    "df=df.dropna(axis=0, how='any')#не запустила в первом случае\n",
    "df = df.apply(pd.to_numeric, errors='coerce')#учла наличие пустых значений\n",
    "empty_numbers.append(len(df))\n",
    "\n",
    "df = df[['wrap_360(math.deg(current_orient:get_euler_yaw()))','calc_target.heading']]\n",
    "df.info"
   ]
  },
  {
   "cell_type": "markdown",
   "id": "206217b1-6abe-4c47-b608-6a69c255f06c",
   "metadata": {},
   "source": [
    "\n",
    "\n",
    "\n",
    "-- Оптимальный угол ветра \n",
    "function OptimizeAngleWind(Plane_curse, Wind_curse)\n",
    "\tlocal X_plane, X_wind\n",
    "\tlocal Y_plane, Y_wind\n",
    "\tlocal Z_plane, Z_wind\n",
    "\tlocal Angle_wind\n",
    "\tX_plane, Y_plane, Z_plane = vector(Plane_curse)\n",
    "\tX_wind, Y_wind, Z_wind = vector(Wind_curse)\n",
    "\tlocal sinus_part = X_plane*X_wind + Y_plane*Y_wind\n",
    "\t--local cosinus_part = X_plane*Z_wind - Z_plane*X_wind + Y_plane*Z_wind - Z_plane*Y_wind + X_plane*Y_wind - X_wind*Y_plane -- универсальная, но длинная\n",
    "\tlocal cosinus_part = X_plane*Y_wind - X_wind*Y_plane\n",
    "\tAngle_wind = math.atan2(cosinus_part, sinus_part)\n",
    "\treturn Angle_wind\n",
    "end"
   ]
  },
  {
   "cell_type": "code",
   "execution_count": 39,
   "id": "8c44145b-d75c-4a5e-946d-7319dacbee87",
   "metadata": {},
   "outputs": [
    {
     "data": {
      "text/html": [
       "<div>\n",
       "<style scoped>\n",
       "    .dataframe tbody tr th:only-of-type {\n",
       "        vertical-align: middle;\n",
       "    }\n",
       "\n",
       "    .dataframe tbody tr th {\n",
       "        vertical-align: top;\n",
       "    }\n",
       "\n",
       "    .dataframe thead th {\n",
       "        text-align: right;\n",
       "    }\n",
       "</style>\n",
       "<table border=\"1\" class=\"dataframe\">\n",
       "  <thead>\n",
       "    <tr style=\"text-align: right;\">\n",
       "      <th></th>\n",
       "      <th>wrap_360(math.deg(current_orient:get_euler_yaw()))</th>\n",
       "      <th>calc_target.heading</th>\n",
       "    </tr>\n",
       "  </thead>\n",
       "  <tbody>\n",
       "    <tr>\n",
       "      <th>0</th>\n",
       "      <td>0.482470</td>\n",
       "      <td>247.9940</td>\n",
       "    </tr>\n",
       "    <tr>\n",
       "      <th>1</th>\n",
       "      <td>0.403241</td>\n",
       "      <td>247.9940</td>\n",
       "    </tr>\n",
       "    <tr>\n",
       "      <th>2</th>\n",
       "      <td>0.309184</td>\n",
       "      <td>247.9940</td>\n",
       "    </tr>\n",
       "    <tr>\n",
       "      <th>3</th>\n",
       "      <td>0.194512</td>\n",
       "      <td>247.8018</td>\n",
       "    </tr>\n",
       "    <tr>\n",
       "      <th>4</th>\n",
       "      <td>0.088814</td>\n",
       "      <td>247.8018</td>\n",
       "    </tr>\n",
       "    <tr>\n",
       "      <th>...</th>\n",
       "      <td>...</td>\n",
       "      <td>...</td>\n",
       "    </tr>\n",
       "    <tr>\n",
       "      <th>3545</th>\n",
       "      <td>-0.587678</td>\n",
       "      <td>338.8967</td>\n",
       "    </tr>\n",
       "    <tr>\n",
       "      <th>3546</th>\n",
       "      <td>-0.575926</td>\n",
       "      <td>338.8967</td>\n",
       "    </tr>\n",
       "    <tr>\n",
       "      <th>3547</th>\n",
       "      <td>-0.564027</td>\n",
       "      <td>339.9531</td>\n",
       "    </tr>\n",
       "    <tr>\n",
       "      <th>3548</th>\n",
       "      <td>-0.551393</td>\n",
       "      <td>339.9850</td>\n",
       "    </tr>\n",
       "    <tr>\n",
       "      <th>3549</th>\n",
       "      <td>-0.536632</td>\n",
       "      <td>340.0076</td>\n",
       "    </tr>\n",
       "  </tbody>\n",
       "</table>\n",
       "<p>3546 rows × 2 columns</p>\n",
       "</div>"
      ],
      "text/plain": [
       "      wrap_360(math.deg(current_orient:get_euler_yaw()))  calc_target.heading\n",
       "0                                              0.482470              247.9940\n",
       "1                                              0.403241              247.9940\n",
       "2                                              0.309184              247.9940\n",
       "3                                              0.194512              247.8018\n",
       "4                                              0.088814              247.8018\n",
       "...                                                 ...                   ...\n",
       "3545                                          -0.587678              338.8967\n",
       "3546                                          -0.575926              338.8967\n",
       "3547                                          -0.564027              339.9531\n",
       "3548                                          -0.551393              339.9850\n",
       "3549                                          -0.536632              340.0076\n",
       "\n",
       "[3546 rows x 2 columns]"
      ]
     },
     "execution_count": 39,
     "metadata": {},
     "output_type": "execute_result"
    }
   ],
   "source": [
    "################\n",
    "import numpy as np\n",
    "x_plane = y_plane = x_point = y_point = df\n",
    "x_plane['wrap_360(math.deg(current_orient:get_euler_yaw()))'] = np.sin(df['wrap_360(math.deg(current_orient:get_euler_yaw()))'])\n",
    "x_plane"
   ]
  },
  {
   "cell_type": "code",
   "execution_count": 73,
   "id": "448c05ec-0a94-4378-b887-3d5709a6f89f",
   "metadata": {},
   "outputs": [
    {
     "data": {
      "text/html": [
       "<div>\n",
       "<style scoped>\n",
       "    .dataframe tbody tr th:only-of-type {\n",
       "        vertical-align: middle;\n",
       "    }\n",
       "\n",
       "    .dataframe tbody tr th {\n",
       "        vertical-align: top;\n",
       "    }\n",
       "\n",
       "    .dataframe thead th {\n",
       "        text-align: right;\n",
       "    }\n",
       "</style>\n",
       "<table border=\"1\" class=\"dataframe\">\n",
       "  <thead>\n",
       "    <tr style=\"text-align: right;\">\n",
       "      <th></th>\n",
       "      <th>cos</th>\n",
       "    </tr>\n",
       "  </thead>\n",
       "  <tbody>\n",
       "    <tr>\n",
       "      <th>0</th>\n",
       "      <td>0.0</td>\n",
       "    </tr>\n",
       "    <tr>\n",
       "      <th>1</th>\n",
       "      <td>0.0</td>\n",
       "    </tr>\n",
       "    <tr>\n",
       "      <th>2</th>\n",
       "      <td>0.0</td>\n",
       "    </tr>\n",
       "    <tr>\n",
       "      <th>3</th>\n",
       "      <td>0.0</td>\n",
       "    </tr>\n",
       "    <tr>\n",
       "      <th>4</th>\n",
       "      <td>0.0</td>\n",
       "    </tr>\n",
       "    <tr>\n",
       "      <th>...</th>\n",
       "      <td>...</td>\n",
       "    </tr>\n",
       "    <tr>\n",
       "      <th>3545</th>\n",
       "      <td>0.0</td>\n",
       "    </tr>\n",
       "    <tr>\n",
       "      <th>3546</th>\n",
       "      <td>0.0</td>\n",
       "    </tr>\n",
       "    <tr>\n",
       "      <th>3547</th>\n",
       "      <td>0.0</td>\n",
       "    </tr>\n",
       "    <tr>\n",
       "      <th>3548</th>\n",
       "      <td>0.0</td>\n",
       "    </tr>\n",
       "    <tr>\n",
       "      <th>3549</th>\n",
       "      <td>0.0</td>\n",
       "    </tr>\n",
       "  </tbody>\n",
       "</table>\n",
       "<p>3546 rows × 1 columns</p>\n",
       "</div>"
      ],
      "text/plain": [
       "      cos\n",
       "0     0.0\n",
       "1     0.0\n",
       "2     0.0\n",
       "3     0.0\n",
       "4     0.0\n",
       "...   ...\n",
       "3545  0.0\n",
       "3546  0.0\n",
       "3547  0.0\n",
       "3548  0.0\n",
       "3549  0.0\n",
       "\n",
       "[3546 rows x 1 columns]"
      ]
     },
     "execution_count": 73,
     "metadata": {},
     "output_type": "execute_result"
    }
   ],
   "source": [
    "cosinus_part = pd.DataFrame(columns = ['cos'])\n",
    "cosinus_part['cos'] = x_plane['wrap_360(math.deg(current_orient:get_euler_yaw()))']*y_point['calc_target.heading'] - x_point['calc_target.heading']*y_plane['wrap_360(math.deg(current_orient:get_euler_yaw()))']\n",
    "cosinus_part"
   ]
  },
  {
   "cell_type": "code",
   "execution_count": 82,
   "id": "ebafb238-fe2f-4e8e-b068-09feceef8549",
   "metadata": {},
   "outputs": [
    {
     "data": {
      "text/plain": [
       "0       0.994180\n",
       "1       0.994176\n",
       "2       0.994173\n",
       "3       0.994174\n",
       "4       0.994172\n",
       "          ...   \n",
       "3545    0.989241\n",
       "3546    0.989239\n",
       "3547    0.989204\n",
       "3548    0.989202\n",
       "3549    0.989199\n",
       "Length: 3546, dtype: float64"
      ]
     },
     "execution_count": 82,
     "metadata": {},
     "output_type": "execute_result"
    }
   ],
   "source": [
    "x_plane['wrap_360(math.deg(current_orient:get_euler_yaw()))']*y_point['calc_target.heading']"
   ]
  },
  {
   "cell_type": "code",
   "execution_count": 80,
   "id": "8140a0a7-ae60-4277-a467-4ae04b18a552",
   "metadata": {},
   "outputs": [
    {
     "data": {
      "text/plain": [
       "0       0.994180\n",
       "1       0.994176\n",
       "2       0.994173\n",
       "3       0.994174\n",
       "4       0.994172\n",
       "          ...   \n",
       "3545    0.989241\n",
       "3546    0.989239\n",
       "3547    0.989204\n",
       "3548    0.989202\n",
       "3549    0.989199\n",
       "Length: 3546, dtype: float64"
      ]
     },
     "execution_count": 80,
     "metadata": {},
     "output_type": "execute_result"
    }
   ],
   "source": [
    "x_point['calc_target.heading']*y_plane['wrap_360(math.deg(current_orient:get_euler_yaw()))']"
   ]
  },
  {
   "cell_type": "code",
   "execution_count": 79,
   "id": "4a8e3c59-31e8-4cf8-b2ba-870c979ac792",
   "metadata": {},
   "outputs": [
    {
     "name": "stdout",
     "output_type": "stream",
     "text": [
      "      cosinus_part\n",
      "0              0.0\n",
      "1              0.0\n",
      "2              0.0\n",
      "3              0.0\n",
      "4              0.0\n",
      "...            ...\n",
      "3545           0.0\n",
      "3546           0.0\n",
      "3547           0.0\n",
      "3548           0.0\n",
      "3549           0.0\n",
      "\n",
      "[3546 rows x 1 columns]\n",
      "      sinus_part\n",
      "0       1.988360\n",
      "1       1.988352\n",
      "2       1.988346\n",
      "3       1.988348\n",
      "4       1.988343\n",
      "...          ...\n",
      "3545    1.978481\n",
      "3546    1.978477\n",
      "3547    1.978408\n",
      "3548    1.978403\n",
      "3549    1.978398\n",
      "\n",
      "[3546 rows x 1 columns]\n"
     ]
    }
   ],
   "source": [
    "import math as m\n",
    "import numpy as np\n",
    "x_plane = y_plane = x_point = y_point = df\n",
    "sinus_part = pd.DataFrame(columns = ['sinus_part'])\n",
    "cosinus_part = pd.DataFrame(columns = ['cosinus_part'])\n",
    "angle = pd.DataFrame(columns = ['angle'])\n",
    "df['wrap_360(math.deg(current_orient:get_euler_yaw()))'] = np.radians(df['wrap_360(math.deg(current_orient:get_euler_yaw()))'])\n",
    "\n",
    "x_plane['wrap_360(math.deg(current_orient:get_euler_yaw()))'] = np.sin(df['wrap_360(math.deg(current_orient:get_euler_yaw()))'])\n",
    "y_plane['wrap_360(math.deg(current_orient:get_euler_yaw()))'] = np.cos(df['wrap_360(math.deg(current_orient:get_euler_yaw()))'])\n",
    "\n",
    "df['calc_target.heading'] = np.radians(df['calc_target.heading'])\n",
    "x_point['calc_target.heading'] = np.sin(df['calc_target.heading'])\n",
    "y_point['calc_target.heading'] = np.cos(df['calc_target.heading'])\n",
    "\n",
    "sinus_part['sinus_part'] = x_plane['wrap_360(math.deg(current_orient:get_euler_yaw()))']*y_point['calc_target.heading'] + y_plane['wrap_360(math.deg(current_orient:get_euler_yaw()))']*y_point['calc_target.heading']\n",
    "cosinus_part['cosinus_part'] = x_plane['wrap_360(math.deg(current_orient:get_euler_yaw()))']*y_point['calc_target.heading'] - x_point['calc_target.heading']*y_plane['wrap_360(math.deg(current_orient:get_euler_yaw()))']\n",
    "angle['angle'] = np.arctan2(sinus_part['sinus_part'], cosinus_part ['cosinus_part'])\n",
    "print(cosinus_part)\n",
    "print(sinus_part)"
   ]
  },
  {
   "cell_type": "code",
   "execution_count": null,
   "id": "0b241c66-8d57-418b-bba1-cec87315b904",
   "metadata": {},
   "outputs": [],
   "source": []
  },
  {
   "cell_type": "code",
   "execution_count": null,
   "id": "d0921cb9-7e01-4223-9f4d-ee7b3cc5753d",
   "metadata": {},
   "outputs": [],
   "source": []
  },
  {
   "cell_type": "code",
   "execution_count": null,
   "id": "177533c2-43ce-491a-b946-2fff0adac78d",
   "metadata": {},
   "outputs": [],
   "source": []
  }
 ],
 "metadata": {
  "kernelspec": {
   "display_name": "Python 3 (ipykernel)",
   "language": "python",
   "name": "python3"
  },
  "language_info": {
   "codemirror_mode": {
    "name": "ipython",
    "version": 3
   },
   "file_extension": ".py",
   "mimetype": "text/x-python",
   "name": "python",
   "nbconvert_exporter": "python",
   "pygments_lexer": "ipython3",
   "version": "3.12.7"
  }
 },
 "nbformat": 4,
 "nbformat_minor": 5
}
