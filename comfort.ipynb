{
 "cells": [
  {
   "cell_type": "markdown",
   "id": "5f9d61b0-ca30-4e5d-bfbb-64245f6347c1",
   "metadata": {},
   "source": [
    "# Запусти, чтобы посмотреть конкретный заход"
   ]
  },
  {
   "cell_type": "code",
   "execution_count": 11,
   "id": "2b51bda8-1f2e-4b59-bf17-50a4acd9925b",
   "metadata": {},
   "outputs": [
    {
     "name": "stdout",
     "output_type": "stream",
     "text": [
      "Какой из заходов на цель хотите посмотреть?    Если нуно выйти - нажмите 0 \n"
     ]
    },
    {
     "name": "stdin",
     "output_type": "stream",
     "text": [
      " 3\n"
     ]
    },
    {
     "name": "stdout",
     "output_type": "stream",
     "text": [
      "Введите критерий: 0 - всe,1 - тангаж, 2 - курс,3 - билиберда?\n"
     ]
    },
    {
     "name": "stdin",
     "output_type": "stream",
     "text": [
      " 1\n"
     ]
    }
   ],
   "source": [
    "import pandas as pd\n",
    "import matplotlib.pyplot as plt\n",
    "%matplotlib qt5\n",
    "df = pd.read_csv('SCRLOG_02.csv', sep =';')\n",
    "df.columns = df.columns.str.strip()\n",
    "\n",
    "#count = df['wind_correct.heading'].isnull().sum()\n",
    "#df=df.drop([0, count-1]).reset_index(drop=True)\n",
    "#df = df[:-count].reset_index(drop=True)\n",
    "\n",
    "df = df.drop_duplicates().reset_index(drop=True)\n",
    "df=df[1:].reset_index(drop=True)\n",
    "\n",
    "empty_numbers=df[df['wind_correct.heading'].isnull()].index.tolist()\n",
    "df = df.apply(pd.to_numeric, errors='coerce')#учла наличие пустых значений\n",
    "empty_numbers.append(len(df))\n",
    "\n",
    "df = df[['time_stamp(millis)','math.deg(current_orient:get_euler_pitch())','calc_target.pitch','wind_correct.pitch','absolute_aim_orientation.pitch','wrap_360(math.deg(current_orient:get_euler_yaw()))','calc_target.heading','wind_correct.heading','absolute_aim_orientation.bearing','ahrs:airspeed_estimate()', 'ctrl_roll_speed', 'ctrl_yawspd', 'ctrl_Roll']]\n",
    "print(\"Какой из заходов на цель хотите посмотреть?    Если нуно выйти - нажмите 0 \")\n",
    "num = int(input())\n",
    "print (\"Введите критерий: 0 - всe,1 - тангаж, 2 - курс,3 - билиберда?\")\n",
    "kriteriy = input()\n",
    "df1 = df.iloc[empty_numbers[num-1]+1:empty_numbers[num]]\n",
    "if (kriteriy == \"всe\" or kriteriy ==\"тангаж\") or (kriteriy == \"0\" or kriteriy ==\"1\"):\n",
    "    df1.plot(x=\"time_stamp(millis)\",y=[\"math.deg(current_orient:get_euler_pitch())\",\"calc_target.pitch\",\"wind_correct.pitch\",\"absolute_aim_orientation.pitch\"])\n",
    "    plt.legend(bbox_to_anchor=(1.05, 1), loc='upper left')\n",
    "if ((kriteriy == \"всe\" or kriteriy == \"курс\")) or (kriteriy == \"0\" or kriteriy ==\"2\"):\n",
    "    df1.plot(x=\"time_stamp(millis)\",y=['wrap_360(math.deg(current_orient:get_euler_yaw()))','calc_target.heading','wind_correct.heading','absolute_aim_orientation.bearing'])\n",
    "    plt.legend(bbox_to_anchor=(1.05, 1), loc='upper left')\n",
    "if (kriteriy == \"всe\" or kriteriy == \"билиберда\")or (kriteriy == \"0\" or kriteriy ==\"3\"):\n",
    "    df1.plot(x=\"time_stamp(millis)\",y=['ahrs:airspeed_estimate()', 'ctrl_roll_speed', 'ctrl_yawspd', 'ctrl_Roll'])\n",
    "    plt.legend(bbox_to_anchor=(1.05, 1), loc='upper left')\n",
    "plt.show()\n",
    "\n"
   ]
  },
  {
   "cell_type": "markdown",
   "id": "4c82fb1d-85d0-4363-a326-23ac166619b0",
   "metadata": {},
   "source": [
    "# Запусти чтобы посмотреть все заходы в одном окне по времени"
   ]
  },
  {
   "cell_type": "code",
   "execution_count": 3,
   "id": "9412cb71-7593-4a43-873c-6ce46f13788d",
   "metadata": {},
   "outputs": [],
   "source": [
    "import pandas as pd\n",
    "import matplotlib.pyplot as plt\n",
    "%matplotlib qt5\n",
    "df = pd.read_csv('SCRLOG_02.csv', sep =';')\n",
    "df.columns = df.columns.str.strip()\n",
    "\n",
    "#count = df['wind_correct.heading'].isnull().sum()\n",
    "#df=df.drop([0, count-1]).reset_index(drop=True)\n",
    "#df = df[:-count].reset_index(drop=True)\n",
    "\n",
    "df = df.drop_duplicates().reset_index(drop=True)\n",
    "df=df[1:].reset_index(drop=True)\n",
    "\n",
    "empty_numbers=df[df['wind_correct.heading'].isnull()].index.tolist()\n",
    "df=df.dropna(axis=0, how='any')#не запустила в первом случае\n",
    "df = df.apply(pd.to_numeric, errors='coerce')#учла наличие пустых значений\n",
    "empty_numbers.append(len(df))\n",
    "\n",
    "df = df[['time_stamp(millis)','math.deg(current_orient:get_euler_pitch())','calc_target.pitch','wind_correct.pitch','absolute_aim_orientation.pitch','wrap_360(math.deg(current_orient:get_euler_yaw()))','calc_target.heading','wind_correct.heading','absolute_aim_orientation.bearing','ahrs:airspeed_estimate()', 'ctrl_roll_speed', 'ctrl_yawspd', 'ctrl_Roll']]\n",
    "\n",
    "\n",
    "df.plot(x=\"time_stamp(millis)\",y=[\"math.deg(current_orient:get_euler_pitch())\",\"calc_target.pitch\",\"wind_correct.pitch\",\"absolute_aim_orientation.pitch\"])\n",
    "plt.legend(bbox_to_anchor=(1.05, 1), loc='upper left')\n",
    "df.plot(x=\"time_stamp(millis)\",y=['wrap_360(math.deg(current_orient:get_euler_yaw()))','calc_target.heading','wind_correct.heading','absolute_aim_orientation.bearing'])\n",
    "plt.legend(bbox_to_anchor=(1.05, 1), loc='upper left')\n",
    "df1.plot(x=\"time_stamp(millis)\",y=['ahrs:airspeed_estimate()', 'ctrl_roll_speed', 'ctrl_yawspd', 'ctrl_Roll'])\n",
    "plt.legend(bbox_to_anchor=(1.05, 1), loc='upper left')\n",
    "plt.show()"
   ]
  },
  {
   "cell_type": "markdown",
   "id": "23a6ce3a-8c00-4fc6-ab87-ebc8c9e9a4e8",
   "metadata": {},
   "source": [
    "'ctrl_yawspd' в радианы\n",
    "умножить ahrs:airspeed_estimate()\n",
    "/9.806565\n",
    "от результата арктангенс\n",
    "результат в градусы\n",
    "график - таргкт ролл\n",
    "\n",
    "наложить ctrl_Roll"
   ]
  },
  {
   "cell_type": "code",
   "execution_count": 13,
   "id": "820d4ede-58d3-4f62-8a4a-fd2c7ecbdb6d",
   "metadata": {},
   "outputs": [
    {
     "ename": "NameError",
     "evalue": "name 'np' is not defined",
     "output_type": "error",
     "traceback": [
      "\u001b[1;31m---------------------------------------------------------------------------\u001b[0m",
      "\u001b[1;31mNameError\u001b[0m                                 Traceback (most recent call last)",
      "Cell \u001b[1;32mIn[13], line 1\u001b[0m\n\u001b[1;32m----> 1\u001b[0m new_roll \u001b[38;5;241m=\u001b[39m np\u001b[38;5;241m.\u001b[39marctan(np\u001b[38;5;241m.\u001b[39mradians(df[\u001b[38;5;124m'\u001b[39m\u001b[38;5;124mctrl_yawspd\u001b[39m\u001b[38;5;124m'\u001b[39m])\u001b[38;5;241m*\u001b[39mdf[\u001b[38;5;124m'\u001b[39m\u001b[38;5;124mahrs:airspeed_estimate()\u001b[39m\u001b[38;5;124m'\u001b[39m])\n\u001b[0;32m      2\u001b[0m new_roll\n",
      "\u001b[1;31mNameError\u001b[0m: name 'np' is not defined"
     ]
    }
   ],
   "source": [
    "new_roll = np.arctan(np.radians(df['ctrl_yawspd'])*df['ahrs:airspeed_estimate()'])\n",
    "new_roll"
   ]
  },
  {
   "cell_type": "code",
   "execution_count": null,
   "id": "eba1948a-a075-4a5c-8a53-a7d616cab159",
   "metadata": {},
   "outputs": [],
   "source": []
  },
  {
   "cell_type": "code",
   "execution_count": null,
   "id": "74719fe0-4d56-4b90-8d91-b4ab45793ea9",
   "metadata": {},
   "outputs": [],
   "source": []
  },
  {
   "cell_type": "code",
   "execution_count": null,
   "id": "a0d1b4d0-d5aa-4b26-9b5e-300a429ffb75",
   "metadata": {},
   "outputs": [],
   "source": []
  },
  {
   "cell_type": "code",
   "execution_count": null,
   "id": "850309de-41a3-4b5e-a138-fddd52b6f6cd",
   "metadata": {},
   "outputs": [],
   "source": []
  },
  {
   "cell_type": "code",
   "execution_count": 3,
   "id": "6e6cf413-925d-4d00-9d64-5f5453a30cf4",
   "metadata": {},
   "outputs": [
    {
     "name": "stdout",
     "output_type": "stream",
     "text": [
      "['time_stamp(millis)', 'math.deg(current_orient:get_euler_pitch())', 'calc_target.pitch', 'wind_correct.pitch', 'absolute_aim_orientation.pitch', 'wrap_360(math.deg(current_orient:get_euler_yaw()))', 'calc_target.heading', 'wind_correct.heading', 'absolute_aim_orientation.bearing']\n"
     ]
    }
   ],
   "source": [
    "print(df.columns.tolist())"
   ]
  }
 ],
 "metadata": {
  "kernelspec": {
   "display_name": "Python 3 (ipykernel)",
   "language": "python",
   "name": "python3"
  },
  "language_info": {
   "codemirror_mode": {
    "name": "ipython",
    "version": 3
   },
   "file_extension": ".py",
   "mimetype": "text/x-python",
   "name": "python",
   "nbconvert_exporter": "python",
   "pygments_lexer": "ipython3",
   "version": "3.12.7"
  }
 },
 "nbformat": 4,
 "nbformat_minor": 5
}
